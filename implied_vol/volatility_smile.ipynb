{
 "cells": [
  {
   "cell_type": "markdown",
   "metadata": {},
   "source": [
    "# Volatility Smile Visualization\n",
    "This notebook computes and visualizes the volatility smile from option data."
   ]
  },
  {
   "cell_type": "code",
   "execution_count": null,
   "metadata": {},
   "outputs": [],
   "source": [
    "import pandas as pd\n",
    "import matplotlib.pyplot as plt"
   ]
  },
  {
   "cell_type": "code",
   "execution_count": null,
   "metadata": {},
   "outputs": [],
   "source": [
    "# Load dataset\n",
    "df = pd.read_csv('stage1b_impl.csv')\n",
    "\n",
    "# Compute strike price and implied volatility\n",
    "df['strike'] = df['S0'] * df['m']\n",
    "df['impl'] = df['V']"
   ]
  },
  {
   "cell_type": "code",
   "execution_count": null,
   "metadata": {},
   "outputs": [],
   "source": [
    "# Average implied volatilities across duplicate strikes\n",
    "df_mean = df.groupby('strike', as_index=False)['impl'].mean()\n",
    "df_mean = df_mean.sort_values(by='strike')"
   ]
  },
  {
   "cell_type": "code",
   "execution_count": null,
   "metadata": {},
   "outputs": [],
   "source": [
    "# Plot volatility smile\n",
    "plt.figure(figsize=(8, 5))\n",
    "plt.plot(df_mean['strike'], df_mean['impl'], marker='o')\n",
    "plt.xlabel('Strike Price (K)')\n",
    "plt.ylabel('Implied Volatility (V)')\n",
    "plt.title('Volatility Smile')\n",
    "plt.grid(True)\n",
    "plt.tight_layout()\n",
    "plt.show()"
   ]
  }
 ],
 "metadata": {
  "kernelspec": {
   "display_name": "Python 3",
   "language": "python",
   "name": "python3"
  },
  "language_info": {
   "name": "python",
   "version": "3.10"
  }
 },
 "nbformat": 4,
 "nbformat_minor": 2
}